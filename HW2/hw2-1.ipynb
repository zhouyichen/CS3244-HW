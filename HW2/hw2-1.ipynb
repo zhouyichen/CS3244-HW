{
 "cells": [
  {
   "cell_type": "markdown",
   "metadata": {
    "collapsed": true
   },
   "source": [
    "# Homework #2 - SVM and Kernelization"
   ]
  },
  {
   "cell_type": "markdown",
   "metadata": {},
   "source": [
    "Matric Number: A0113598X\n",
    "\n",
    "Email: a0113598@u.nus.edu"
   ]
  },
  {
   "cell_type": "markdown",
   "metadata": {},
   "source": [
    "### General Notes about this assignment \n",
    "\n",
    "Hi, thanks for grading."
   ]
  },
  {
   "cell_type": "markdown",
   "metadata": {},
   "source": [
    "### Files included with this submission\n",
    "\n",
    "#### hw2-1.ipynb\n",
    "Solutions to programming question 1\n",
    "\n",
    "#### hw2-2.ipynb\n",
    "Solutions to programming question 2\n",
    "\n",
    "#### essay-2.pdf\n",
    "Solutions to essay questions\n"
   ]
  },
  {
   "cell_type": "markdown",
   "metadata": {},
   "source": [
    "## Problem 1 import and functions"
   ]
  },
  {
   "cell_type": "code",
   "execution_count": 1,
   "metadata": {
    "collapsed": false
   },
   "outputs": [],
   "source": [
    "import numpy as np\n",
    "from io import StringIO\n",
    "from sklearn import svm\n",
    "\n",
    "def read_q1_file(file_name):\n",
    "\tf = open(file_name, \"r\")\n",
    "\tmat = np.loadtxt(StringIO(f.read()))\n",
    "\tX = mat[:, 1:]\n",
    "\t# X = np.insert(X, 0, 1, axis = 1)\n",
    "\ty = mat[:, 0]\n",
    "\treturn (X, y)\n",
    "\n",
    "def svmTrain(dataTrain, labelTrain, cost, kernel, gamma, degree):\n",
    "\tclf = svm.SVC(C=cost, kernel=kernel, gamma=gamma, degree=degree, coef0=1.0)\n",
    "\tsvc = clf.fit(dataTrain, labelTrain)\n",
    "\ttotalSV = svc.support_.size\n",
    "\treturn (clf, totalSV)\n",
    "\n",
    "def svmPredict(data, lable, svmModel):\n",
    "\tpredictions = svmModel.predict(data)\n",
    "\taccuracy = np.sum(predictions == lable) / lable.size\n",
    "\treturn accuracy\n",
    "\n",
    "def print_result(totalSV, trainAccuracy, testAccuracy):\n",
    "\tprint('Number of SV =', totalSV, ', trainAccuracy =', trainAccuracy, ', testAccuracy =', testAccuracy,\n",
    "\t\t', E_in =', 1 - trainAccuracy, ', E_out =', 1 - testAccuracy)\n",
    "\n",
    "def run_svm_and_write_output(q_number, dataTrain, labelTrain, dataTest, labelTest, cost, kernel, gamma, degree, write=True):\n",
    "\t# train your svm\n",
    "\t# (n.b., svmTrain, svmPredict are not previously defined;\n",
    "\t# you will have to supply code to implement them)\n",
    "\tsvmModel, totalSV  = svmTrain(dataTrain, labelTrain, cost, kernel, gamma, degree)\n",
    "\n",
    "\t# test on the training data\n",
    "\ttrainAccuracy = svmPredict(dataTrain, labelTrain, svmModel)\n",
    "\n",
    "\t# test on your test data\n",
    "\ttestAccuracy = svmPredict(dataTest, labelTest, svmModel)\n",
    "\n",
    "\tif write:\n",
    "\t\t### The output of your program should be written in a file as follows.\n",
    "\t\t#   for question 'i', write the output in 'problem-i.txt' file (e.g., 'problem-1a.txt')\n",
    "\t\tfo = open('problem-' + q_number + '.txt', 'w')\n",
    "\t\t# report your results in the file\n",
    "\t\tfo.write(\"Kernel: \"+ str(kernel)+\"\\n\")\n",
    "\t\tfo.write(\"Cost: \"+ str(cost)+ \"\\n\")\n",
    "\t\tfo.write(\"Number of Support Vectors: \"+ str(totalSV)+\"\\n\")\n",
    "\t\tfo.write(\"Train Accuracy: \"+ str(trainAccuracy)+\"\\n\")\n",
    "\t\tfo.write(\"Test Accuracy: \" + str(testAccuracy)+\"\\n\")\n",
    "\tprint_result(totalSV, trainAccuracy, testAccuracy)\n",
    "\n",
    "#read data\n",
    "q1_train_data, q1_train_lable = read_q1_file('hw2-1-train.txt')\n",
    "q1_test_data, q1_test_lable = read_q1_file('hw2-1-test.txt')"
   ]
  },
  {
   "cell_type": "markdown",
   "metadata": {},
   "source": [
    "## Problem 1a"
   ]
  },
  {
   "cell_type": "code",
   "execution_count": 2,
   "metadata": {
    "collapsed": false
   },
   "outputs": [
    {
     "name": "stdout",
     "output_type": "stream",
     "text": [
      "Problem 1a\n",
      "All training data and lables:\n",
      "Number of SV = 28 , trainAccuracy = 0.996156310058 , testAccuracy = 0.978773584906 , E_in = 0.00384368994234 , E_out = 0.0212264150943\n"
     ]
    }
   ],
   "source": [
    "# Part a, all training data\n",
    "print('Problem 1a')\n",
    "print('All training data and lables:')\n",
    "run_svm_and_write_output('1a', q1_train_data, q1_train_lable, q1_test_data, q1_test_lable, 1, 'linear', 'auto', 1)"
   ]
  },
  {
   "cell_type": "code",
   "execution_count": 3,
   "metadata": {
    "collapsed": false
   },
   "outputs": [
    {
     "name": "stdout",
     "output_type": "stream",
     "text": [
      "Subset size = 50 :\n",
      "Number of SV = 2 , trainAccuracy = 1.0 , testAccuracy = 0.971698113208 , E_in = 0.0 , E_out = 0.0283018867925\n",
      "\n",
      "Subset size = 100 :\n",
      "Number of SV = 4 , trainAccuracy = 1.0 , testAccuracy = 0.978773584906 , E_in = 0.0 , E_out = 0.0212264150943\n",
      "\n",
      "Subset size = 200 :\n",
      "Number of SV = 4 , trainAccuracy = 1.0 , testAccuracy = 0.981132075472 , E_in = 0.0 , E_out = 0.0188679245283\n",
      "\n",
      "Subset size = 800 :\n",
      "Number of SV = 10 , trainAccuracy = 0.9975 , testAccuracy = 0.978773584906 , E_in = 0.0025 , E_out = 0.0212264150943\n",
      "\n"
     ]
    }
   ],
   "source": [
    "# Part a, subset of training data\n",
    "subset_sizes = [50, 100, 200, 800]\n",
    "for s in subset_sizes:\n",
    "\tprint('Subset size =', s, ':')\n",
    "\tsub_train_data = q1_train_data[:s]\n",
    "\tsub_train_lable = q1_train_lable[:s]\n",
    "\trun_svm_and_write_output('1a_'+str(s), sub_train_data, sub_train_lable, q1_test_data, q1_test_lable, 1, 'linear', 'auto', 1, False)\n",
    "\tprint()"
   ]
  },
  {
   "cell_type": "markdown",
   "metadata": {},
   "source": [
    "## Problem 1b"
   ]
  },
  {
   "cell_type": "code",
   "execution_count": 4,
   "metadata": {
    "collapsed": false
   },
   "outputs": [
    {
     "name": "stdout",
     "output_type": "stream",
     "text": [
      "Problem 1b\n",
      "C = 0.0001\n",
      "Q = 2:\n",
      "Number of SV = 236 , trainAccuracy = 0.991031390135 , testAccuracy = 0.983490566038 , E_in = 0.00896860986547 , E_out = 0.0165094339623\n",
      "Q = 5:\n",
      "Number of SV = 26 , trainAccuracy = 0.995515695067 , testAccuracy = 0.981132075472 , E_in = 0.00448430493274 , E_out = 0.0188679245283\n",
      "\n",
      "C = 0.001\n",
      "Q = 2:\n",
      "Number of SV = 76 , trainAccuracy = 0.995515695067 , testAccuracy = 0.983490566038 , E_in = 0.00448430493274 , E_out = 0.0165094339623\n",
      "Q = 5:\n",
      "Number of SV = 25 , trainAccuracy = 0.995515695067 , testAccuracy = 0.978773584906 , E_in = 0.00448430493274 , E_out = 0.0212264150943\n",
      "\n",
      "C = 0.01\n",
      "Q = 2:\n",
      "Number of SV = 34 , trainAccuracy = 0.995515695067 , testAccuracy = 0.981132075472 , E_in = 0.00448430493274 , E_out = 0.0188679245283\n",
      "Q = 5:\n",
      "Number of SV = 23 , trainAccuracy = 0.996156310058 , testAccuracy = 0.978773584906 , E_in = 0.00384368994234 , E_out = 0.0212264150943\n",
      "\n",
      "C = 1.0\n",
      "Q = 2:\n",
      "Number of SV = 24 , trainAccuracy = 0.996796925048 , testAccuracy = 0.981132075472 , E_in = 0.00320307495195 , E_out = 0.0188679245283\n",
      "Q = 5:\n",
      "Number of SV = 21 , trainAccuracy = 0.996796925048 , testAccuracy = 0.978773584906 , E_in = 0.00320307495195 , E_out = 0.0212264150943\n",
      "\n"
     ]
    }
   ],
   "source": [
    "# Part b\n",
    "print('Problem 1b')\n",
    "C_list = [0.0001, 0.001, 0.01, 1.0]\n",
    "for C in C_list:\n",
    "\tprint('C =', C)\n",
    "\tprint('Q = 2:')\n",
    "\trun_svm_and_write_output('1b_2_'+str(C), q1_train_data, q1_train_lable, q1_test_data, q1_test_lable, C, 'poly', 1.0, 2, False)\n",
    "\tprint('Q = 5:')\n",
    "\trun_svm_and_write_output('1b_5_'+str(C), q1_train_data, q1_train_lable, q1_test_data, q1_test_lable, C, 'poly', 1.0, 5, False)\n",
    "\tprint()"
   ]
  },
  {
   "cell_type": "markdown",
   "metadata": {},
   "source": [
    "### \"When C = 0.001, the number of support vectors is lower at Q = 5\" is the only correct statement"
   ]
  },
  {
   "cell_type": "markdown",
   "metadata": {},
   "source": [
    "## Part 1C"
   ]
  },
  {
   "cell_type": "code",
   "execution_count": 5,
   "metadata": {
    "collapsed": false
   },
   "outputs": [
    {
     "name": "stdout",
     "output_type": "stream",
     "text": [
      "\n",
      "Problem 1c\n",
      "C = 0.01\n",
      "Number of SV = 406 , trainAccuracy = 0.996156310058 , testAccuracy = 0.97641509434 , E_in = 0.00384368994234 , E_out = 0.0235849056604\n",
      "\n",
      "C = 1\n",
      "Number of SV = 31 , trainAccuracy = 0.995515695067 , testAccuracy = 0.978773584906 , E_in = 0.00448430493274 , E_out = 0.0212264150943\n",
      "\n",
      "C = 100\n",
      "Number of SV = 22 , trainAccuracy = 0.996796925048 , testAccuracy = 0.981132075472 , E_in = 0.00320307495195 , E_out = 0.0188679245283\n",
      "\n",
      "C = 10000\n",
      "Number of SV = 19 , trainAccuracy = 0.997437540038 , testAccuracy = 0.97641509434 , E_in = 0.00256245996156 , E_out = 0.0235849056604\n",
      "\n",
      "C = 1000000\n",
      "Number of SV = 17 , trainAccuracy = 0.99935938501 , testAccuracy = 0.97641509434 , E_in = 0.000640614990391 , E_out = 0.0235849056604\n",
      "\n"
     ]
    }
   ],
   "source": [
    "# part c\n",
    "print('\\nProblem 1c')\n",
    "C_list = [0.01, 1, 100, 10000, 1000000]\n",
    "for C in C_list:\n",
    "\tprint('C =', C)\n",
    "\trun_svm_and_write_output('1c_'+str(C), q1_train_data, q1_train_lable, q1_test_data, q1_test_lable, C, 'rbf', 1.0, 1, False)\n",
    "\tprint()"
   ]
  },
  {
   "cell_type": "markdown",
   "metadata": {},
   "source": [
    "### C = 1000000 results in the lowest E_in. C = 100 results in lowest E_out"
   ]
  },
  {
   "cell_type": "markdown",
   "metadata": {},
   "source": [
    "## Statement of Individual Work\n",
    "\n",
    "Please initial (between the square brackets) one of the following statements.\n",
    "\n",
    "[ZYC] I, A0113598X, certify that I have followed the CS 3244 Machine Learning class guidelines for homework assignments.  In particular, I expressly vow that I have followed the Facebook rule in discussing with others in doing the assignment and did not take notes (digital or printed) from the discussions.  \n",
    "\n",
    "[ ] I, <*substitute your matric number here*>, did not follow the class rules regarding the homework assignment, because of the following reason:\n",
    "\n",
    "<*Please fill in*>\n",
    "\n",
    "I suggest that I should be graded as follows:\n",
    "\n",
    "<*Please fill in*>\n",
    "\n",
    "### References\n",
    "\n",
    "I have refered to the following list of people and websites in preparing my homework submission:\n",
    "\n",
    "I googled for some numpy and latex syntax"
   ]
  }
 ],
 "metadata": {
  "anaconda-cloud": {},
  "kernelspec": {
   "display_name": "Python 3",
   "language": "python",
   "name": "python3"
  },
  "language_info": {
   "codemirror_mode": {
    "name": "ipython",
    "version": 3
   },
   "file_extension": ".py",
   "mimetype": "text/x-python",
   "name": "python",
   "nbconvert_exporter": "python",
   "pygments_lexer": "ipython3",
   "version": "3.5.1"
  }
 },
 "nbformat": 4,
 "nbformat_minor": 0
}

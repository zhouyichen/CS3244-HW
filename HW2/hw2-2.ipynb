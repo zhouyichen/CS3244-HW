{
 "cells": [
  {
   "cell_type": "markdown",
   "metadata": {
    "collapsed": true
   },
   "source": [
    "# Homework #2 - SVM and Kernelization"
   ]
  },
  {
   "cell_type": "markdown",
   "metadata": {},
   "source": [
    "Matric Number: A0113598X\n",
    "\n",
    "Email: a0113598@u.nus.edu"
   ]
  },
  {
   "cell_type": "markdown",
   "metadata": {},
   "source": [
    "### General Notes about this assignment \n",
    "\n",
    "Hi, thanks for grading."
   ]
  },
  {
   "cell_type": "markdown",
   "metadata": {},
   "source": [
    "### Files included with this submission\n",
    "\n",
    "#### hw2-1.ipynb\n",
    "Solutions to programming question 1\n",
    "\n",
    "#### hw2-2.ipynb\n",
    "Solutions to programming question 2\n",
    "\n",
    "#### essay-2.pdf\n",
    "Solutions to essay questions\n"
   ]
  },
  {
   "cell_type": "markdown",
   "metadata": {},
   "source": [
    "## Problem 2 import and functions"
   ]
  },
  {
   "cell_type": "code",
   "execution_count": 2,
   "metadata": {
    "collapsed": false
   },
   "outputs": [
    {
     "name": "stdout",
     "output_type": "stream",
     "text": [
      "Finished reading data\n"
     ]
    }
   ],
   "source": [
    "import numpy as np\n",
    "from sklearn import svm\n",
    "import csv\n",
    "\n",
    "DIM = 5000\n",
    "\n",
    "def read_q2_file(file_name, rows):\n",
    "\tX = np.zeros([rows, DIM])\n",
    "\tY = np.zeros(rows)\n",
    "\ti = 0\n",
    "\twith open(file_name) as csvfile:\n",
    "\t\treader = csv.reader(csvfile, delimiter=' ')\n",
    "\t\tfor row in reader:\n",
    "\t\t\tY[i] = float(row[0])\n",
    "\t\t\tfor elem in row[1: -1]:\n",
    "\t\t\t\ta, b = elem.split(':')\n",
    "\t\t\t\tX[i, int(a) - 1] = float(b)\n",
    "\t\t\ti += 1\n",
    "\treturn (X, Y)\n",
    "\t\t\n",
    "\n",
    "def svmTrain(dataTrain, labelTrain, cost, kernel, gamma, degree):\n",
    "\tclf = svm.SVC(C=cost, kernel=kernel, gamma=gamma, degree=degree, coef0=1.0)\n",
    "\tsvc = clf.fit(dataTrain, labelTrain)\n",
    "\ttotalSV = svc.support_.size\n",
    "\treturn (clf, totalSV)\n",
    "\n",
    "def svmPredict(data, lable, svmModel):\n",
    "\tpredictions = svmModel.predict(data)\n",
    "\taccuracy = np.sum(predictions == lable) / lable.size\n",
    "\treturn accuracy\n",
    "\n",
    "def print_result(totalSV, trainAccuracy, testAccuracy):\n",
    "\tprint('Number of SV =', totalSV, ', trainAccuracy =', trainAccuracy, ', testAccuracy =', testAccuracy,\n",
    "\t\t', E_in =', 1 - trainAccuracy, ', E_out =', 1 - testAccuracy)\n",
    "\n",
    "def run_svm_and_write_output(q_number, dataTrain, labelTrain, dataTest, labelTest, cost, kernel, gamma, degree, write=True):\n",
    "\t# train your svm\n",
    "\t# (n.b., svmTrain, svmPredict are not previously defined;\n",
    "\t# you will have to supply code to implement them)\n",
    "\tsvmModel, totalSV  = svmTrain(dataTrain, labelTrain, cost, kernel, gamma, degree)\n",
    "\n",
    "\t# test on the training data\n",
    "\ttrainAccuracy = svmPredict(dataTrain, labelTrain, svmModel)\n",
    "\n",
    "\t# test on your test data\n",
    "\ttestAccuracy = svmPredict(dataTest, labelTest, svmModel)\n",
    "\n",
    "\tif write:\n",
    "\t\t### The output of your program should be written in a file as follows.\n",
    "\t\t#   for question 'i', write the output in 'problem-i.txt' file (e.g., 'problem-1a.txt')\n",
    "\t\tfo = open('problem-' + q_number + '.txt', 'w')\n",
    "\t\t# report your results in the file\n",
    "\t\tfo.write(\"Kernel: \"+ str(kernel)+\"\\n\")\n",
    "\t\tfo.write(\"Cost: \"+ str(cost)+ \"\\n\")\n",
    "\t\tfo.write(\"Number of Support Vectors: \"+ str(totalSV)+\"\\n\")\n",
    "\t\tfo.write(\"Train Accuracy: \"+ str(trainAccuracy)+\"\\n\")\n",
    "\t\tfo.write(\"Test Accuracy: \" + str(testAccuracy)+\"\\n\")\n",
    "\tprint_result(totalSV, trainAccuracy, testAccuracy)\n",
    "\n",
    "q2_train_data, q2_train_lable = read_q2_file('hw2-2-train.txt', 6000)\n",
    "q2_test_data, q2_test_lable = read_q2_file('hw2-2-test.txt', 1000)\n",
    "print(\"Finished reading data\")"
   ]
  },
  {
   "cell_type": "markdown",
   "metadata": {},
   "source": [
    "## Problem 2d"
   ]
  },
  {
   "cell_type": "code",
   "execution_count": 3,
   "metadata": {
    "collapsed": false
   },
   "outputs": [
    {
     "name": "stdout",
     "output_type": "stream",
     "text": [
      "Problem 2d\n",
      "Linear Kernel:\n",
      "Number of SV = 1084 , trainAccuracy = 1.0 , testAccuracy = 0.975 , E_in = 0.0 , E_out = 0.025\n"
     ]
    }
   ],
   "source": [
    "print('Problem 2d')\n",
    "print('Linear Kernel:')\n",
    "run_svm_and_write_output('2d', q2_train_data, q2_train_lable, q2_test_data, q2_test_lable, 1, 'linear', 'auto', 1)"
   ]
  },
  {
   "cell_type": "markdown",
   "metadata": {},
   "source": [
    "## Problem 2e"
   ]
  },
  {
   "cell_type": "code",
   "execution_count": 4,
   "metadata": {
    "collapsed": false
   },
   "outputs": [
    {
     "name": "stdout",
     "output_type": "stream",
     "text": [
      "Problem 2e\n",
      "RBF Kernel:\n",
      "Number of SV = 2594 , trainAccuracy = 0.998833333333 , testAccuracy = 0.98 , E_in = 0.00116666666667 , E_out = 0.02\n",
      "\n",
      "Polynomial Kernel:\n",
      "Number of SV = 1295 , trainAccuracy = 1.0 , testAccuracy = 0.98 , E_in = 0.0 , E_out = 0.02\n"
     ]
    }
   ],
   "source": [
    "print('Problem 2e')\n",
    "print('RBF Kernel:')\n",
    "run_svm_and_write_output('2e1', q2_train_data, q2_train_lable, q2_test_data, q2_test_lable, 1, 'rbf', 0.001, 1)\n",
    "print('\\nPolynomial Kernel:')\n",
    "run_svm_and_write_output('2e2', q2_train_data, q2_train_lable, q2_test_data, q2_test_lable, 1, 'poly', 1.0, 2)"
   ]
  },
  {
   "cell_type": "markdown",
   "metadata": {},
   "source": [
    "### Polynomial Kernel produces the lower E"
   ]
  },
  {
   "cell_type": "markdown",
   "metadata": {},
   "source": [
    "## Statement of Individual Work\n",
    "\n",
    "Please initial (between the square brackets) one of the following statements.\n",
    "\n",
    "[ZYC] I, A0113598X, certify that I have followed the CS 3244 Machine Learning class guidelines for homework assignments.  In particular, I expressly vow that I have followed the Facebook rule in discussing with others in doing the assignment and did not take notes (digital or printed) from the discussions.  \n",
    "\n",
    "[ ] I, <*substitute your matric number here*>, did not follow the class rules regarding the homework assignment, because of the following reason:\n",
    "\n",
    "<*Please fill in*>\n",
    "\n",
    "I suggest that I should be graded as follows:\n",
    "\n",
    "<*Please fill in*>\n",
    "\n",
    "### References\n",
    "\n",
    "I have refered to the following list of people and websites in preparing my homework submission:\n",
    "\n",
    "I googled for some numpy and latex syntax"
   ]
  }
 ],
 "metadata": {
  "anaconda-cloud": {},
  "kernelspec": {
   "display_name": "Python 3",
   "language": "python",
   "name": "python3"
  },
  "language_info": {
   "codemirror_mode": {
    "name": "ipython",
    "version": 3
   },
   "file_extension": ".py",
   "mimetype": "text/x-python",
   "name": "python",
   "nbconvert_exporter": "python",
   "pygments_lexer": "ipython3",
   "version": "3.5.1"
  }
 },
 "nbformat": 4,
 "nbformat_minor": 0
}

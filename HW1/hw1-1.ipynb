{
 "cells": [
  {
   "cell_type": "markdown",
   "metadata": {
    "collapsed": true
   },
   "source": [
    "# Homework #1 - The Linear Model"
   ]
  },
  {
   "cell_type": "markdown",
   "metadata": {},
   "source": [
    "Matric Number: A0113598X\n",
    "\n",
    "Email: a0113598@u.nus.edu"
   ]
  },
  {
   "cell_type": "markdown",
   "metadata": {},
   "source": [
    "### General Notes about this assignment \n",
    "\n",
    "Hi, thanks for grading."
   ]
  },
  {
   "cell_type": "markdown",
   "metadata": {},
   "source": [
    "### Files included with this submission\n",
    "\n",
    "#### hw1-1.ipynb\n",
    "Solutions to programming questions\n",
    "\n",
    "#### essay-1.pdf\n",
    "Solutions to essay questions\n"
   ]
  },
  {
   "cell_type": "markdown",
   "metadata": {},
   "source": [
    "## Programming Exercise 1"
   ]
  },
  {
   "cell_type": "code",
   "execution_count": 2,
   "metadata": {
    "collapsed": false
   },
   "outputs": [],
   "source": [
    "import numpy as np\n",
    "import numpy.random as nr\n",
    "import matplotlib.pyplot as pl\n",
    "%matplotlib inline\n",
    "# Plotting with style! \n",
    "import seaborn as sb \n",
    "\n",
    "# Size the plot appropriately for online display\n",
    "pl.rcParams['figure.figsize'] = (12.0, 10.0)"
   ]
  },
  {
   "cell_type": "markdown",
   "metadata": {},
   "source": [
    "Let's fix the random number generator first, in case we need results that are replicable."
   ]
  },
  {
   "cell_type": "code",
   "execution_count": 3,
   "metadata": {
    "collapsed": true
   },
   "outputs": [],
   "source": [
    "nr.seed(3244)"
   ]
  },
  {
   "cell_type": "code",
   "execution_count": 4,
   "metadata": {
    "collapsed": false
   },
   "outputs": [],
   "source": [
    "#    Write your solution to the programming assignment here.  We've suggested some cells that you can add \n",
    "#    to your notebook as single line comments below.\n",
    "#    Please place all of your cells to be run in a linear, unintervened order, such that we can automate\n",
    "#    the running and grading of the assignment.\n",
    "\n",
    "# load datasets code\n",
    "from io import StringIO\n",
    "\n",
    "def read_data_file(file_name):\n",
    "\tf = open(file_name, \"r\")\n",
    "\tmat = np.loadtxt(StringIO(f.read()))\n",
    "\tX = mat[:, :-1]\n",
    "\ty = np.matrix(mat[:, -1]).T\n",
    "\treturn (X, y)\n",
    "\n",
    "X_train, Y_train = read_data_file(\"hw1-train.dat\")\n",
    "N, M = X_train.shape\n",
    "\n",
    "X_test, Y_test = read_data_file(\"hw1-test.dat\")\n",
    "\n",
    "# LR code\n",
    "\n",
    "def lr(xn, yn, w, eta, index=-1):\n",
    "\t'''\n",
    "\t    Input: \n",
    "\t        xn : Data points\n",
    "\t        yn : Classification of the previous data points, an Nx1 vector. \n",
    "\t        w  : initial weight\n",
    "\t        eta : step size\n",
    "\t        index: index of the datapoint chosen, -1 means it will be random\n",
    "\t    Output: \n",
    "\t        w : updated weight\n",
    "\t'''\n",
    "\tN = xn.shape[0]\n",
    "\tif index == -1: # stochastic\n",
    "\t    index = nr.randint(N)\n",
    "\tx = xn[index, :]\n",
    "\ty = yn[index]\n",
    "\tg = y * x / (1 + np.exp(y * (x.dot(w))))\n",
    "\tw = w + eta * g.T\n",
    "\treturn w\n",
    "    \n",
    "# Evaluation code\n",
    "\n",
    "# calculate the in sample error given w\n",
    "def calculate_error(xn, yn, w):\n",
    "\tN = xn.shape[0]\n",
    "\te = np.sum(np.log(1 + np.exp(np.multiply(-yn, (np.dot(xn, w)))))) / N\n",
    "\t# print(e)\n",
    "\treturn e\n",
    "\n",
    "# sigmoid function which can be applied to a vector\n",
    "def sigmoid(s):\n",
    "\texp_s = np.exp(s)\n",
    "\treturn np.divide(exp_s, (1 + exp_s))\n",
    "\n",
    "# calculates the E_out given data, classification, and weights\n",
    "def out_error(xn, yn, w):\n",
    "\tN = xn.shape[0]\n",
    "\tprediction = (sigmoid(np.dot(xn, w)) > 0.5)\n",
    "\treal_class = (yn > 0)\n",
    "\te = np.sum(prediction != real_class) / N\n",
    "\treturn e\n",
    "\n",
    "def evaluate_stochastic(eta, iteration):\n",
    "\t'''\n",
    "\t\tRun SGD using X_train and Y_train\n",
    "\t\tInput:\n",
    "\t\t\teta: step size\n",
    "\t\t\titeration: number of iteration of SGD\n",
    "\t\toutput:\n",
    "\t\t\tw : final weights\n",
    "\t\t\tE_out: Error for out samples using X_test and Y_test\n",
    "\t'''\n",
    "\tw = np.zeros([M, 1])\n",
    "\tfor i in range(iteration):\n",
    "\t    # calculate_error(X_train, Y_train, w)\n",
    "\t    w = lr(X_train, Y_train, w, eta, -1)\n",
    "\tE_out = out_error(X_test, Y_test, w)\n",
    "\treturn (w, E_out)\n",
    "\n",
    "def evaluate_deterministic(eta, iteration):\n",
    "\t'''\n",
    "\t\tRun deterministic gradient descent using X_train and Y_train\n",
    "\t\tInput:\n",
    "\t\t\teta: step size\n",
    "\t\t\titeration: number of iteration of gradient descent\n",
    "\t\toutput:\n",
    "\t\t\tw : final weights\n",
    "\t\t\tE_out: Error for out samples using X_test and Y_test\n",
    "\t'''\n",
    "\tw = np.zeros([M, 1])\n",
    "\tfor i in range(iteration):\n",
    "\t\t# calculate_error(X_train, Y_train, w)\n",
    "\t\tw = lr(X_train, Y_train, w, eta, i % N)\n",
    "\tE_out = out_error(X_test, Y_test, w)\n",
    "\treturn (w, E_out)\n"
   ]
  },
  {
   "cell_type": "code",
   "execution_count": 5,
   "metadata": {
    "collapsed": false
   },
   "outputs": [
    {
     "name": "stdout",
     "output_type": "stream",
     "text": [
      "a: eta = 0.05, T = 2333\n",
      "Eventual weight vector:\n",
      "[[-0.77103986]\n",
      " [ 0.69686794]\n",
      " [-0.71068577]\n",
      " [ 0.18921361]\n",
      " [-1.11267433]\n",
      " [ 0.23775555]\n",
      " [ 0.96439839]\n",
      " [-0.76712115]\n",
      " [ 0.36149172]\n",
      " [ 1.17128657]\n",
      " [ 0.34709316]\n",
      " [-1.01241315]\n",
      " [-0.6790299 ]\n",
      " [ 0.72990107]\n",
      " [ 1.16332397]\n",
      " [ 1.09742592]\n",
      " [-1.67913442]\n",
      " [ 1.31748317]\n",
      " [-0.63821407]\n",
      " [-1.11995321]]\n",
      "E_out: 0.222333333333 \n",
      "\n"
     ]
    }
   ],
   "source": [
    "# part a\n",
    "w, E_out = evaluate_stochastic(0.05, 2333)\n",
    "print(\"a: eta = 0.05, T = 2333\")\n",
    "print(\"Eventual weight vector:\")\n",
    "print(w)\n",
    "print(\"E_out:\", E_out, \"\\n\")"
   ]
  },
  {
   "cell_type": "code",
   "execution_count": 15,
   "metadata": {
    "collapsed": false
   },
   "outputs": [
    {
     "name": "stdout",
     "output_type": "stream",
     "text": [
      "b: eta = 0.005, T = 2333\n",
      "Eventual weight vector:\n",
      "[[-0.09335889]\n",
      " [ 0.20215719]\n",
      " [-0.23996357]\n",
      " [-0.04251637]\n",
      " [-0.20440963]\n",
      " [ 0.03846584]\n",
      " [ 0.23017485]\n",
      " [-0.23390801]\n",
      " [ 0.07161958]\n",
      " [ 0.34289685]\n",
      " [ 0.07072517]\n",
      " [-0.16405645]\n",
      " [-0.07940969]\n",
      " [ 0.21138679]\n",
      " [ 0.22592153]\n",
      " [ 0.27787995]\n",
      " [-0.27183798]\n",
      " [ 0.27196301]\n",
      " [-0.15302842]\n",
      " [-0.17871196]]\n",
      "E_out: 0.260333333333 \n",
      "\n"
     ]
    }
   ],
   "source": [
    "# part b\n",
    "w, E_out = evaluate_stochastic(0.005, 2333)\n",
    "print(\"b: eta = 0.005, T = 2333\")\n",
    "print(\"Eventual weight vector:\")\n",
    "print(w)\n",
    "print(\"E_out:\", E_out, \"\\n\")"
   ]
  },
  {
   "cell_type": "code",
   "execution_count": 16,
   "metadata": {
    "collapsed": false
   },
   "outputs": [
    {
     "name": "stdout",
     "output_type": "stream",
     "text": [
      "c1: eta = 0.05, T = 2333, deterministic\n",
      "Eventual weight vector:\n",
      "[[-0.72940019]\n",
      " [ 0.85990151]\n",
      " [-1.15873921]\n",
      " [-0.05888132]\n",
      " [-1.12459694]\n",
      " [-0.06295276]\n",
      " [ 1.0753553 ]\n",
      " [-0.93569624]\n",
      " [ 0.41119313]\n",
      " [ 1.3961822 ]\n",
      " [ 0.16606345]\n",
      " [-0.79805704]\n",
      " [-0.70404885]\n",
      " [ 0.84129845]\n",
      " [ 1.11757352]\n",
      " [ 1.28384704]\n",
      " [-1.48376652]\n",
      " [ 1.39995501]\n",
      " [-0.65636591]\n",
      " [-1.08186501]]\n",
      "E_out: 0.218 \n",
      "\n"
     ]
    }
   ],
   "source": [
    "# part c1\n",
    "w, E_out = evaluate_deterministic(0.05, 2333)\n",
    "print(\"c1: eta = 0.05, T = 2333, deterministic\")\n",
    "print(\"Eventual weight vector:\")\n",
    "print(w)\n",
    "print(\"E_out:\", E_out, \"\\n\")"
   ]
  },
  {
   "cell_type": "code",
   "execution_count": 11,
   "metadata": {
    "collapsed": false,
    "scrolled": false
   },
   "outputs": [
    {
     "name": "stdout",
     "output_type": "stream",
     "text": [
      "c2: eta = 0.05, T = 2333, deterministic\n",
      "Eventual weight vector:\n",
      "[[-0.13112574]\n",
      " [ 0.17243183]\n",
      " [-0.23161184]\n",
      " [-0.0007156 ]\n",
      " [-0.24678354]\n",
      " [ 0.00547271]\n",
      " [ 0.20750785]\n",
      " [-0.1796379 ]\n",
      " [ 0.08506787]\n",
      " [ 0.30888347]\n",
      " [ 0.03572705]\n",
      " [-0.14519921]\n",
      " [-0.10807148]\n",
      " [ 0.1878487 ]\n",
      " [ 0.2478724 ]\n",
      " [ 0.26941629]\n",
      " [-0.31270712]\n",
      " [ 0.27810743]\n",
      " [-0.13817623]\n",
      " [-0.2213296 ]]\n",
      "E_out: 0.194666666667 \n",
      "\n"
     ]
    }
   ],
   "source": [
    "# part c2\n",
    "w, E_out = evaluate_deterministic(0.005, 2333)\n",
    "print(\"c2: eta = 0.05, T = 2333, deterministic\")\n",
    "print(\"Eventual weight vector:\")\n",
    "print(w)\n",
    "print(\"E_out:\", E_out, \"\\n\")"
   ]
  },
  {
   "cell_type": "markdown",
   "metadata": {},
   "source": [
    "## Statement of Individual Work\n",
    "\n",
    "Please initial (between the square brackets) one of the following statements.\n",
    "\n",
    "[ZYC] I, A0113598X, certify that I have followed the CS 3244 Machine Learning class guidelines for homework assignments.  In particular, I expressly vow that I have followed the Facebook rule in discussing with others in doing the assignment and did not take notes (digital or printed) from the discussions.  \n",
    "\n",
    "[ ] I, <*substitute your matric number here*>, did not follow the class rules regarding the homework assignment, because of the following reason:\n",
    "\n",
    "<*Please fill in*>\n",
    "\n",
    "I suggest that I should be graded as follows:\n",
    "\n",
    "<*Please fill in*>\n",
    "\n",
    "### References\n",
    "\n",
    "I have refered to the following list of people and websites in preparing my homework submission:\n",
    "\n",
    "I googled for some numpy and latex syntax"
   ]
  },
  {
   "cell_type": "code",
   "execution_count": null,
   "metadata": {
    "collapsed": true
   },
   "outputs": [],
   "source": []
  }
 ],
 "metadata": {
  "anaconda-cloud": {},
  "kernelspec": {
   "display_name": "Python 3",
   "language": "python",
   "name": "python3"
  },
  "language_info": {
   "codemirror_mode": {
    "name": "ipython",
    "version": 3
   },
   "file_extension": ".py",
   "mimetype": "text/x-python",
   "name": "python",
   "nbconvert_exporter": "python",
   "pygments_lexer": "ipython3",
   "version": "3.5.1"
  }
 },
 "nbformat": 4,
 "nbformat_minor": 0
}

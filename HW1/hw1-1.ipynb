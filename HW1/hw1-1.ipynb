{
 "cells": [
  {
   "cell_type": "markdown",
   "metadata": {
    "collapsed": true
   },
   "source": [
    "# Homework #1 - The Linear Model"
   ]
  },
  {
   "cell_type": "markdown",
   "metadata": {},
   "source": [
    "Matric Number: A0113598X\n",
    "\n",
    "Email: a0113598@u.nus.edu"
   ]
  },
  {
   "cell_type": "markdown",
   "metadata": {},
   "source": [
    "### General Notes about this assignment \n",
    "\n",
    "Hi, thanks for grading."
   ]
  },
  {
   "cell_type": "markdown",
   "metadata": {},
   "source": [
    "### Files included with this submission\n",
    "\n",
    "#### hw1-1.ipynb\n",
    "Solutions to programming questions\n",
    "\n",
    "#### essay-1.pdf\n",
    "Solutions to essay questions\n"
   ]
  },
  {
   "cell_type": "markdown",
   "metadata": {},
   "source": [
    "## Programming Exercise 1"
   ]
  },
  {
   "cell_type": "code",
   "execution_count": 1,
   "metadata": {
    "collapsed": false
   },
   "outputs": [],
   "source": [
    "import numpy as np\n",
    "import numpy.random as nr\n",
    "import matplotlib.pyplot as pl\n",
    "%matplotlib inline\n",
    "# Plotting with style! \n",
    "import seaborn as sb \n",
    "\n",
    "# Size the plot appropriately for online display\n",
    "pl.rcParams['figure.figsize'] = (12.0, 10.0)"
   ]
  },
  {
   "cell_type": "markdown",
   "metadata": {},
   "source": [
    "Let's fix the random number generator first, in case we need results that are replicable."
   ]
  },
  {
   "cell_type": "code",
   "execution_count": 2,
   "metadata": {
    "collapsed": true
   },
   "outputs": [],
   "source": [
    "nr.seed(3244)"
   ]
  },
  {
   "cell_type": "code",
   "execution_count": 3,
   "metadata": {
    "collapsed": false
   },
   "outputs": [],
   "source": [
    "#    Write your solution to the programming assignment here.  We've suggested some cells that you can add \n",
    "#    to your notebook as single line comments below.\n",
    "#    Please place all of your cells to be run in a linear, unintervened order, such that we can automate\n",
    "#    the running and grading of the assignment.\n",
    "\n",
    "# load datasets code\n",
    "from io import StringIO\n",
    "\n",
    "def read_data_file(file_name):\n",
    "\tf = open(file_name, \"r\")\n",
    "\tmat = np.loadtxt(StringIO(f.read()))\n",
    "\tX = mat[:, :-1]\n",
    "\tX = np.insert(X, 0, 1, axis = 1)\n",
    "\ty = np.matrix(mat[:, -1]).T\n",
    "\treturn (X, y)\n",
    "\n",
    "X_train, Y_train = read_data_file(\"hw1-train.dat\")\n",
    "N, M = X_train.shape\n",
    "\n",
    "X_test, Y_test = read_data_file(\"hw1-test.dat\")\n",
    "\n",
    "# LR code\n",
    "\n",
    "def lr(x, y, w, eta):\n",
    "\t'''\n",
    "\t    Input: \n",
    "\t        xn : Data points\n",
    "\t        yn : Classification of the previous data points\n",
    "\t        w  : initial weight\n",
    "\t        eta : step size\n",
    "\t    Output: \n",
    "\t        w : updated weight\n",
    "\t'''\n",
    "\tn = x.shape[0]\n",
    "\tg = np.sum(\n",
    "\t\t\tnp.multiply(x, y) / (1 + np.exp(np.multiply(y, (np.dot(x, w))))),\n",
    "\t\t\t0\n",
    "\t\t) / n\n",
    "\tw = w + eta * g.T\n",
    "\treturn w\n",
    "    \n",
    "# Evaluation code\n",
    "\n",
    "# calculate the in sample error given w\n",
    "def calculate_error(xn, yn, w):\n",
    "\tN = xn.shape[0]\n",
    "\te = np.sum(np.log(1 + np.exp(np.multiply(-yn, (np.dot(xn, w)))))) / N\n",
    "\t# print(e)\n",
    "\treturn e\n",
    "\n",
    "# sigmoid function which can be applied to a vector\n",
    "def sigmoid(s):\n",
    "\texp_s = np.exp(s)\n",
    "\treturn np.divide(exp_s, (1 + exp_s))\n",
    "\n",
    "# calculates the E_out given data, classification, and weights\n",
    "def out_error(xn, yn, w):\n",
    "\tN = xn.shape[0]\n",
    "\tprediction = (sigmoid(np.dot(xn, w)) > 0.5)\n",
    "\treal_class = (yn > 0)\n",
    "\te = np.sum(prediction != real_class) / N\n",
    "\treturn e\n",
    "\n",
    "def evaluate_batch_GD(eta, iteration):\n",
    "\t'''\n",
    "\t\tRun batch GD using X_train and Y_train\n",
    "\t\tInput:\n",
    "\t\t\teta: step size\n",
    "\t\t\titeration: number of iteration of SGD\n",
    "\t\toutput:\n",
    "\t\t\tw : final weights\n",
    "\t\t\tE_out: Error for out samples using X_test and Y_test\n",
    "\t'''\n",
    "\tw = np.zeros([M, 1])\n",
    "\tfor i in range(iteration):\n",
    "\t    # calculate_error(X_train, Y_train, w)\n",
    "\t    w = lr(X_train, Y_train, w, eta)\n",
    "\tE_out = out_error(X_test, Y_test, w)\n",
    "\treturn (w.T.tolist()[0], E_out)\n",
    "\n",
    "def evaluate_deterministic(eta, iteration):\n",
    "\t'''\n",
    "\t\tRun deterministic gradient descent using X_train and Y_train\n",
    "\t\tInput:\n",
    "\t\t\teta: step size\n",
    "\t\t\titeration: number of iteration of gradient descent\n",
    "\t\toutput:\n",
    "\t\t\tw : final weights\n",
    "\t\t\tE_out: Error for out samples using X_test and Y_test\n",
    "\t'''\n",
    "\tw = np.zeros([M, 1])\n",
    "\tfor i in range(iteration):\n",
    "\t\t# calculate_error(X_train, Y_train, w)\n",
    "\t\tindex = i % N\n",
    "\t\tw = lr(np.mat(X_train[index, :]), Y_train[index], w, eta)\n",
    "\tE_out = out_error(X_test, Y_test, w)\n",
    "\treturn (w.T.tolist()[0], E_out)"
   ]
  },
  {
   "cell_type": "code",
   "execution_count": 4,
   "metadata": {
    "collapsed": false
   },
   "outputs": [
    {
     "name": "stdout",
     "output_type": "stream",
     "text": [
      "a: eta = 0.05, T = 2333\n",
      "Eventual weight vector:\n",
      "[-0.11619989953257719, -0.6230638861458144, 0.8305469786461496, -1.0934973403011155, 0.05572273780420709, -1.1139138777344821, -0.01296554708163875, 1.1124953425644475, -0.8158812303486359, 0.4309260722643113, 1.4234615491768565, 0.27688543057003007, -0.8809569714738537, -0.5974162096293617, 0.8570422509145481, 1.1536100733824346, 1.3039896671074884, -1.3480710066622439, 1.3424348786513614, -0.6163682044354375, -1.1006430680003119]\n",
      "E_out: 0.184333333333 \n",
      "\n"
     ]
    }
   ],
   "source": [
    "# part a\n",
    "w, E_out = evaluate_batch_GD(0.05, 2333)\n",
    "print(\"a: eta = 0.05, T = 2333\")\n",
    "print(\"Eventual weight vector:\")\n",
    "print(w)\n",
    "print(\"E_out:\", E_out, \"\\n\")"
   ]
  },
  {
   "cell_type": "code",
   "execution_count": 5,
   "metadata": {
    "collapsed": false
   },
   "outputs": [
    {
     "name": "stdout",
     "output_type": "stream",
     "text": [
      "b: eta = 0.005, T = 2333\n",
      "Eventual weight vector:\n",
      "[0.006885550310671467, -0.11440970104349153, 0.17133392051185675, -0.21953817780911974, 0.03143198111060321, -0.23767226697862284, 0.01827846966222283, 0.21209126258519115, -0.1624184168038865, 0.08772493345745595, 0.31631168396518783, 0.05802731776823319, -0.15479095606960339, -0.09603835038685483, 0.1954484354425996, 0.25837087267201747, 0.27707535469407557, -0.29100915213236694, 0.2758915978261983, -0.12857103153081947, -0.2300694440172345]\n",
      "E_out: 0.263666666667 \n",
      "\n"
     ]
    }
   ],
   "source": [
    "# part b\n",
    "w, E_out = evaluate_batch_GD(0.005, 2333)\n",
    "print(\"b: eta = 0.005, T = 2333\")\n",
    "print(\"Eventual weight vector:\")\n",
    "print(w)\n",
    "print(\"E_out:\", E_out, \"\\n\")"
   ]
  },
  {
   "cell_type": "code",
   "execution_count": 6,
   "metadata": {
    "collapsed": false
   },
   "outputs": [
    {
     "name": "stdout",
     "output_type": "stream",
     "text": [
      "c1: eta = 0.05, T = 2333, deterministic\n",
      "Eventual weight vector:\n",
      "[-0.13610500359911662, -0.7150913932415007, 0.8717352150115321, -1.1547142455013584, -0.045438363710803065, -1.1155966476788384, -0.056790344541262444, 1.0837057868511473, -0.9282516677434588, 0.42471630207031286, 1.4044058735614786, 0.17829297031538077, -0.7907827543185026, -0.6985461402096791, 0.854466052986928, 1.1306861114378426, 1.296202206285256, -1.479912060412737, 1.4143478871384085, -0.6600702563762324, -1.0755395024117322]\n",
      "E_out: 0.222666666667 \n",
      "\n"
     ]
    }
   ],
   "source": [
    "# part c1\n",
    "w, E_out = evaluate_deterministic(0.05, 2333)\n",
    "print(\"c1: eta = 0.05, T = 2333, deterministic\")\n",
    "print(\"Eventual weight vector:\")\n",
    "print(w)\n",
    "print(\"E_out:\", E_out, \"\\n\")"
   ]
  },
  {
   "cell_type": "code",
   "execution_count": 7,
   "metadata": {
    "collapsed": false,
    "scrolled": false
   },
   "outputs": [
    {
     "name": "stdout",
     "output_type": "stream",
     "text": [
      "c2: eta = 0.05, T = 2333, deterministic\n",
      "Eventual weight vector:\n",
      "[-0.005875693602769173, -0.13261359159470545, 0.1718376959401165, -0.2324582392805767, -0.0012891321734608845, -0.24747490809580594, 0.004545199830573813, 0.20677978266374542, -0.17993032851840574, 0.08439129567952236, 0.3081290631681284, 0.03496957725214281, -0.14550272003141143, -0.10943277154337427, 0.18726770702824716, 0.24725378855802668, 0.26877878824415435, -0.3136832011330745, 0.27764022295336366, -0.13889373933176044, -0.22247117336152536]\n",
      "E_out: 0.193333333333 \n",
      "\n"
     ]
    }
   ],
   "source": [
    "# part c2\n",
    "w, E_out = evaluate_deterministic(0.005, 2333)\n",
    "print(\"c2: eta = 0.05, T = 2333, deterministic\")\n",
    "print(\"Eventual weight vector:\")\n",
    "print(w)\n",
    "print(\"E_out:\", E_out, \"\\n\")"
   ]
  },
  {
   "cell_type": "markdown",
   "metadata": {},
   "source": [
    "## Statement of Individual Work\n",
    "\n",
    "Please initial (between the square brackets) one of the following statements.\n",
    "\n",
    "[ZYC] I, A0113598X, certify that I have followed the CS 3244 Machine Learning class guidelines for homework assignments.  In particular, I expressly vow that I have followed the Facebook rule in discussing with others in doing the assignment and did not take notes (digital or printed) from the discussions.  \n",
    "\n",
    "[ ] I, <*substitute your matric number here*>, did not follow the class rules regarding the homework assignment, because of the following reason:\n",
    "\n",
    "<*Please fill in*>\n",
    "\n",
    "I suggest that I should be graded as follows:\n",
    "\n",
    "<*Please fill in*>\n",
    "\n",
    "### References\n",
    "\n",
    "I have refered to the following list of people and websites in preparing my homework submission:\n",
    "\n",
    "I googled for some numpy and latex syntax"
   ]
  },
  {
   "cell_type": "code",
   "execution_count": null,
   "metadata": {
    "collapsed": true
   },
   "outputs": [],
   "source": []
  }
 ],
 "metadata": {
  "anaconda-cloud": {},
  "kernelspec": {
   "display_name": "Python 3",
   "language": "python",
   "name": "python3"
  },
  "language_info": {
   "codemirror_mode": {
    "name": "ipython",
    "version": 3
   },
   "file_extension": ".py",
   "mimetype": "text/x-python",
   "name": "python",
   "nbconvert_exporter": "python",
   "pygments_lexer": "ipython3",
   "version": "3.5.1"
  }
 },
 "nbformat": 4,
 "nbformat_minor": 0
}
